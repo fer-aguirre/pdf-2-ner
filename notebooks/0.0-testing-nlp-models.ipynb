{
 "cells": [
  {
   "attachments": {},
   "cell_type": "markdown",
   "metadata": {},
   "source": [
    "### Installation"
   ]
  },
  {
   "cell_type": "code",
   "execution_count": null,
   "metadata": {},
   "outputs": [],
   "source": [
    "!pip install pdftotext\n",
    "!pip install spacy\n",
    "!pip install stanza\n",
    "!pip install transformers\n",
    "!python3 -m spacy download es_core_news_md"
   ]
  },
  {
   "attachments": {},
   "cell_type": "markdown",
   "metadata": {},
   "source": [
    "### Import libraries"
   ]
  },
  {
   "cell_type": "code",
   "execution_count": 1,
   "metadata": {},
   "outputs": [
    {
     "name": "stderr",
     "output_type": "stream",
     "text": [
      "/home/fxr/.local/share/virtualenvs/pdf_2_ner-Tur0vV_l/lib/python3.8/site-packages/tqdm/auto.py:22: TqdmWarning: IProgress not found. Please update jupyter and ipywidgets. See https://ipywidgets.readthedocs.io/en/stable/user_install.html\n",
      "  from .autonotebook import tqdm as notebook_tqdm\n",
      "Downloading https://raw.githubusercontent.com/stanfordnlp/stanza-resources/main/resources_1.4.1.json: 193kB [00:00, 23.6MB/s]                    \n",
      "2023-01-25 11:46:17 INFO: Downloading default packages for language: es (Spanish) ...\n",
      "2023-01-25 11:46:19 INFO: File exists: /home/fxr/stanza_resources/es/default.zip\n",
      "2023-01-25 11:46:24 INFO: Finished downloading models and saved to /home/fxr/stanza_resources.\n"
     ]
    }
   ],
   "source": [
    "# Import libraries\n",
    "import pdftotext\n",
    "import re\n",
    "import spacy\n",
    "import stanza \n",
    "import pandas as pd\n",
    "from collections import OrderedDict \n",
    "# Download Spanish models\n",
    "stanza.download('es')\n",
    "import es_core_news_md"
   ]
  },
  {
   "attachments": {},
   "cell_type": "markdown",
   "metadata": {},
   "source": [
    "### Load NER model"
   ]
  },
  {
   "cell_type": "code",
   "execution_count": 2,
   "metadata": {},
   "outputs": [
    {
     "name": "stderr",
     "output_type": "stream",
     "text": [
      "2023-01-25 11:46:24 INFO: Checking for updates to resources.json in case models have been updated.  Note: this behavior can be turned off with download_method=None or download_method=DownloadMethod.REUSE_RESOURCES\n",
      "Downloading https://raw.githubusercontent.com/stanfordnlp/stanza-resources/main/resources_1.4.1.json: 193kB [00:00, 11.8MB/s]                    \n",
      "2023-01-25 11:46:24 WARNING: Language es package default expects mwt, which has been added\n",
      "2023-01-25 11:46:25 INFO: Loading these models for language: es (Spanish):\n",
      "=======================\n",
      "| Processor | Package |\n",
      "-----------------------\n",
      "| tokenize  | ancora  |\n",
      "| mwt       | ancora  |\n",
      "| ner       | conll02 |\n",
      "=======================\n",
      "\n",
      "2023-01-25 11:46:25 INFO: Use device: cpu\n",
      "2023-01-25 11:46:25 INFO: Loading: tokenize\n",
      "2023-01-25 11:46:25 INFO: Loading: mwt\n",
      "2023-01-25 11:46:25 INFO: Loading: ner\n",
      "2023-01-25 11:46:25 INFO: Done loading processors!\n"
     ]
    }
   ],
   "source": [
    "# Create an instance for stanza's Named Entity Recognition model\n",
    "nlp_st = stanza.Pipeline(lang='es', processors='tokenize, ner')\n",
    "# Create an instance for spacy's Named Entity Recognition model\n",
    "nlp_sp = es_core_news_md.load()"
   ]
  },
  {
   "attachments": {},
   "cell_type": "markdown",
   "metadata": {},
   "source": [
    "### Extract text from PDF"
   ]
  },
  {
   "cell_type": "code",
   "execution_count": 3,
   "metadata": {},
   "outputs": [],
   "source": [
    "# Function to extract text from PDF file\n",
    "def extract_text(path):\n",
    "    # Read PDF file\n",
    "    with open(path, \"rb\") as f:\n",
    "        pdf = pdftotext.PDF(f)\n",
    "        pdf_text = \"\"\n",
    "        # Iterate over all the pages\n",
    "        for page in pdf:\n",
    "            pdf_text += page\n",
    "    return pdf_text"
   ]
  },
  {
   "cell_type": "code",
   "execution_count": 4,
   "metadata": {},
   "outputs": [],
   "source": [
    "# Apply extract_text function to PDF document\n",
    "pdf_text = extract_text(\"../data/raw/fallo1.pdf\")"
   ]
  },
  {
   "attachments": {},
   "cell_type": "markdown",
   "metadata": {},
   "source": [
    "### Clean text"
   ]
  },
  {
   "cell_type": "code",
   "execution_count": 5,
   "metadata": {},
   "outputs": [
    {
     "data": {
      "text/plain": [
       "' Camara Federal De La Plata - Sala De Feria'"
      ]
     },
     "execution_count": 5,
     "metadata": {},
     "output_type": "execute_result"
    }
   ],
   "source": [
    "# Extract the second line from the document\n",
    "subtitle = re.findall(r'^.*\\n(.*)\\n', pdf_text)\n",
    "\n",
    "# Remove new lines\n",
    "subtitle_cleanned = re.sub(\"\\n\", \" \", subtitle[0])\n",
    "\n",
    "# Remove multiple spaces\n",
    "subtitle_cleanned = re.sub(' +', ' ', subtitle_cleanned)\n",
    "\n",
    "# Replace tokens in uppercase including accented characters with title() method\n",
    "institucion = re.sub(r'\\b[A-ZÀ-ÿ]{2,}\\b', lambda x: x.group().title(), subtitle_cleanned)\n",
    "\n",
    "institucion"
   ]
  },
  {
   "cell_type": "code",
   "execution_count": 6,
   "metadata": {},
   "outputs": [],
   "source": [
    "# Remove new lines\n",
    "text_cleanned = re.sub(\"\\n\", \" \", pdf_text)\n",
    "\n",
    "# Remove multiple spaces\n",
    "text_cleanned = re.sub(' +', ' ', text_cleanned)\n",
    "\n",
    "# Replace tokens in uppercase including accented characters with title() method\n",
    "text_cleanned = re.sub(r'\\b[A-ZÀ-ÿ]{2,}\\b', lambda x: x.group().title(), text_cleanned)"
   ]
  },
  {
   "attachments": {},
   "cell_type": "markdown",
   "metadata": {},
   "source": [
    "### Extract entitites from text"
   ]
  },
  {
   "cell_type": "code",
   "execution_count": 7,
   "metadata": {},
   "outputs": [],
   "source": [
    "# Apply spacy NER model to text\n",
    "doc_sp = nlp_sp(text_cleanned)\n",
    "\n",
    "# Apply stanza NER model to text\n",
    "doc_st = nlp_st(text_cleanned)"
   ]
  },
  {
   "cell_type": "code",
   "execution_count": 8,
   "metadata": {},
   "outputs": [
    {
     "data": {
      "text/plain": [
       "['Carlos Alberto Vallefin',\n",
       " 'Juez De Camara',\n",
       " 'Roberto Agustin Lemos Arias',\n",
       " 'Maria Virginia Filipas',\n",
       " 'Secretaria De Feria',\n",
       " 'Ii',\n",
       " 'Regístrese',\n",
       " 'Carlos Alberto Vallefín',\n",
       " 'Roberto Agustín Lemos Arias',\n",
       " 'María Virginia Filipas']"
      ]
     },
     "execution_count": 8,
     "metadata": {},
     "output_type": "execute_result"
    }
   ],
   "source": [
    "# Extract people from text\n",
    "per = [ent.text for sent in doc_st.sentences for ent in sent.ents if ent.type == \"PER\"]\n",
    "unique_per = list(OrderedDict.fromkeys(per))\n",
    "unique_per"
   ]
  },
  {
   "attachments": {},
   "cell_type": "markdown",
   "metadata": {},
   "source": [
    "### Summarize a text"
   ]
  },
  {
   "cell_type": "code",
   "execution_count": 9,
   "metadata": {},
   "outputs": [
    {
     "name": "stderr",
     "output_type": "stream",
     "text": [
      "The following encoder weights were not tied to the decoder ['bert/pooler']\n",
      "The following encoder weights were not tied to the decoder ['bert/pooler']\n"
     ]
    },
    {
     "data": {
      "text/plain": [
       "[{'summary_text': 'Las asociaciones civiles Nuevo Ambiente y Banco de Bosques denuncian que el Gobierno de Luján no puede autorizar el recurso de la empresa'}]"
      ]
     },
     "execution_count": 9,
     "metadata": {},
     "output_type": "execute_result"
    }
   ],
   "source": [
    "from transformers import AutoTokenizer, AutoModelForSeq2SeqLM, pipeline\n",
    "\n",
    "tokenizer = AutoTokenizer.from_pretrained(\"mrm8488/bert2bert_shared-spanish-finetuned-summarization\")\n",
    "\n",
    "model = AutoModelForSeq2SeqLM.from_pretrained(\"mrm8488/bert2bert_shared-spanish-finetuned-summarization\")\n",
    "\n",
    "summarizer = pipeline(\"summarization\", model=model, tokenizer=tokenizer)\n",
    "\n",
    "resumen = summarizer(pdf_text, truncation=True, max_length=512)\n",
    "\n",
    "resumen"
   ]
  },
  {
   "attachments": {},
   "cell_type": "markdown",
   "metadata": {},
   "source": [
    "### Extract information about text"
   ]
  },
  {
   "cell_type": "code",
   "execution_count": 10,
   "metadata": {},
   "outputs": [
    {
     "name": "stderr",
     "output_type": "stream",
     "text": [
      "Asking to truncate to max_length but no maximum length is provided and the model has no predefined maximum length. Default to no truncation.\n"
     ]
    },
    {
     "data": {
      "text/plain": [
       "[{'generated_text': 'flp 49311/2022/1/rh1 “recurso de queja no 1 – asociación civil nuevo ambiente y otro c/ e.v.a.s.a y otro s/ amparo ambiental'}]"
      ]
     },
     "execution_count": 10,
     "metadata": {},
     "output_type": "execute_result"
    }
   ],
   "source": [
    "from transformers import T5ForConditionalGeneration, AutoTokenizer, pipeline\n",
    "\n",
    "tokenizer = AutoTokenizer.from_pretrained(\"mrm8488/spanish-t5-small-sqac-for-qa\")\n",
    "\n",
    "model = AutoModelForSeq2SeqLM.from_pretrained(\"mrm8488/spanish-t5-small-sqac-for-qa\")\n",
    "\n",
    "get_answer = pipeline(\"text2text-generation\", model=model, tokenizer=tokenizer)\n",
    "\n",
    "question = '¿Cuál es el nombre del expediente?'\n",
    "\n",
    "expediente = get_answer(f'question: {question}  context: {text_cleanned}', truncation=True, max_length=512)\n",
    "\n",
    "expediente\n"
   ]
  },
  {
   "cell_type": "code",
   "execution_count": 11,
   "metadata": {},
   "outputs": [
    {
     "data": {
      "text/plain": [
       "[{'generated_text': 'fecha de firma: 09/01/2023'}]"
      ]
     },
     "execution_count": 11,
     "metadata": {},
     "output_type": "execute_result"
    }
   ],
   "source": [
    "question = '¿Cuál es la fecha de la firma?'\n",
    "\n",
    "fecha_firma = get_answer(f'question: {question}  context: {text_cleanned}', truncation=True, max_length=512)\n",
    "\n",
    "fecha_firma"
   ]
  },
  {
   "cell_type": "code",
   "execution_count": 12,
   "metadata": {},
   "outputs": [
    {
     "data": {
      "text/plain": [
       "'09/01/2023'"
      ]
     },
     "execution_count": 12,
     "metadata": {},
     "output_type": "execute_result"
    }
   ],
   "source": [
    "# Function to extract date from anwser\n",
    "def clean_date(data):\n",
    "    # Filter first value from dictionary\n",
    "    date_filtered = list(data[0].values())[0]\n",
    "    # Find all matching dates\n",
    "    date_cleanned = re.findall(r'(\\d+/\\d+/\\d+)', date_filtered)\n",
    "    date = date_cleanned[0]\n",
    "    return date\n",
    "\n",
    "fecha = clean_date(fecha_firma)\n",
    "\n",
    "fecha"
   ]
  },
  {
   "cell_type": "code",
   "execution_count": 13,
   "metadata": {},
   "outputs": [
    {
     "data": {
      "text/plain": [
       "[{'generated_text': 'privación de la causa'}]"
      ]
     },
     "execution_count": 13,
     "metadata": {},
     "output_type": "execute_result"
    }
   ],
   "source": [
    "question = '¿Cuál es el delito?'\n",
    "\n",
    "delito = get_answer(f'question: {question}  context: {text_cleanned}', truncation=True, max_length=512)\n",
    "\n",
    "delito\n"
   ]
  },
  {
   "cell_type": "code",
   "execution_count": 14,
   "metadata": {},
   "outputs": [
    {
     "data": {
      "text/plain": [
       "[{'generated_text': 'la acumulación de la causa flp 49311/2022/2/rh2 a esta causa'}]"
      ]
     },
     "execution_count": 14,
     "metadata": {},
     "output_type": "execute_result"
    }
   ],
   "source": [
    "question = '¿Qué se resuelve?'\n",
    "\n",
    "resolucion = get_answer(f'question: {question}  context: {text_cleanned}', truncation=True, max_length=512)\n",
    "\n",
    "resolucion"
   ]
  },
  {
   "cell_type": "code",
   "execution_count": 15,
   "metadata": {},
   "outputs": [
    {
     "data": {
      "text/plain": [
       "['#37413263#354963292#20230109132436969']"
      ]
     },
     "execution_count": 15,
     "metadata": {},
     "output_type": "execute_result"
    }
   ],
   "source": [
    "filter_ids = re.findall(r'(#+\\d+\\S+)', text_cleanned)\n",
    "id = list(OrderedDict.fromkeys(filter_ids))\n",
    "id"
   ]
  },
  {
   "attachments": {},
   "cell_type": "markdown",
   "metadata": {},
   "source": [
    "### Create a dataframe"
   ]
  },
  {
   "cell_type": "code",
   "execution_count": 16,
   "metadata": {},
   "outputs": [],
   "source": [
    "data = [expediente, resumen, delito, resolucion]\n",
    "columns = ['expediente', 'resumen', 'delito', 'resolucion']\n",
    "\n",
    "values = []\n",
    "for i in range(len(data)):\n",
    "    values.append(list(data[i][0].values())[0])\n"
   ]
  },
  {
   "cell_type": "code",
   "execution_count": 20,
   "metadata": {},
   "outputs": [
    {
     "data": {
      "text/html": [
       "<div>\n",
       "<style scoped>\n",
       "    .dataframe tbody tr th:only-of-type {\n",
       "        vertical-align: middle;\n",
       "    }\n",
       "\n",
       "    .dataframe tbody tr th {\n",
       "        vertical-align: top;\n",
       "    }\n",
       "\n",
       "    .dataframe thead tr th {\n",
       "        text-align: left;\n",
       "    }\n",
       "</style>\n",
       "<table border=\"1\" class=\"dataframe\">\n",
       "  <thead>\n",
       "    <tr>\n",
       "      <th></th>\n",
       "      <th>expediente</th>\n",
       "      <th>resumen</th>\n",
       "      <th>delito</th>\n",
       "      <th>resolucion</th>\n",
       "    </tr>\n",
       "  </thead>\n",
       "  <tbody>\n",
       "    <tr>\n",
       "      <th>0</th>\n",
       "      <td>flp 49311/2022/1/rh1 “recurso de queja no 1 – ...</td>\n",
       "      <td>Las asociaciones civiles Nuevo Ambiente y Banc...</td>\n",
       "      <td>privación de la causa</td>\n",
       "      <td>la acumulación de la causa flp 49311/2022/2/rh...</td>\n",
       "    </tr>\n",
       "  </tbody>\n",
       "</table>\n",
       "</div>"
      ],
      "text/plain": [
       "                                          expediente  \\\n",
       "0  flp 49311/2022/1/rh1 “recurso de queja no 1 – ...   \n",
       "\n",
       "                                             resumen                 delito  \\\n",
       "0  Las asociaciones civiles Nuevo Ambiente y Banc...  privación de la causa   \n",
       "\n",
       "                                          resolucion  \n",
       "0  la acumulación de la causa flp 49311/2022/2/rh...  "
      ]
     },
     "execution_count": 20,
     "metadata": {},
     "output_type": "execute_result"
    }
   ],
   "source": [
    "df = pd.DataFrame(columns=[columns], data=[values])\n",
    "\n",
    "df"
   ]
  },
  {
   "cell_type": "code",
   "execution_count": 21,
   "metadata": {},
   "outputs": [
    {
     "data": {
      "text/html": [
       "<div>\n",
       "<style scoped>\n",
       "    .dataframe tbody tr th:only-of-type {\n",
       "        vertical-align: middle;\n",
       "    }\n",
       "\n",
       "    .dataframe tbody tr th {\n",
       "        vertical-align: top;\n",
       "    }\n",
       "\n",
       "    .dataframe thead tr th {\n",
       "        text-align: left;\n",
       "    }\n",
       "</style>\n",
       "<table border=\"1\" class=\"dataframe\">\n",
       "  <thead>\n",
       "    <tr>\n",
       "      <th></th>\n",
       "      <th>expediente</th>\n",
       "      <th>fecha</th>\n",
       "      <th>resumen</th>\n",
       "      <th>delito</th>\n",
       "      <th>resolucion</th>\n",
       "    </tr>\n",
       "  </thead>\n",
       "  <tbody>\n",
       "    <tr>\n",
       "      <th>0</th>\n",
       "      <td>flp 49311/2022/1/rh1 “recurso de queja no 1 – ...</td>\n",
       "      <td>2023-09-01</td>\n",
       "      <td>Las asociaciones civiles Nuevo Ambiente y Banc...</td>\n",
       "      <td>privación de la causa</td>\n",
       "      <td>la acumulación de la causa flp 49311/2022/2/rh...</td>\n",
       "    </tr>\n",
       "  </tbody>\n",
       "</table>\n",
       "</div>"
      ],
      "text/plain": [
       "                                          expediente      fecha  \\\n",
       "0  flp 49311/2022/1/rh1 “recurso de queja no 1 – ... 2023-09-01   \n",
       "\n",
       "                                             resumen                 delito  \\\n",
       "0  Las asociaciones civiles Nuevo Ambiente y Banc...  privación de la causa   \n",
       "\n",
       "                                          resolucion  \n",
       "0  la acumulación de la causa flp 49311/2022/2/rh...  "
      ]
     },
     "execution_count": 21,
     "metadata": {},
     "output_type": "execute_result"
    }
   ],
   "source": [
    "# Add new column\n",
    "df.insert(1, \"fecha\", [fecha])\n",
    "\n",
    "# Convert fecha column to datetime format\n",
    "df['fecha'] = df['fecha'].astype('datetime64[ns]')\n",
    "\n",
    "df"
   ]
  },
  {
   "cell_type": "code",
   "execution_count": 22,
   "metadata": {},
   "outputs": [
    {
     "data": {
      "text/html": [
       "<div>\n",
       "<style scoped>\n",
       "    .dataframe tbody tr th:only-of-type {\n",
       "        vertical-align: middle;\n",
       "    }\n",
       "\n",
       "    .dataframe tbody tr th {\n",
       "        vertical-align: top;\n",
       "    }\n",
       "\n",
       "    .dataframe thead tr th {\n",
       "        text-align: left;\n",
       "    }\n",
       "</style>\n",
       "<table border=\"1\" class=\"dataframe\">\n",
       "  <thead>\n",
       "    <tr>\n",
       "      <th></th>\n",
       "      <th>expediente</th>\n",
       "      <th>fecha</th>\n",
       "      <th>id</th>\n",
       "      <th>institucion</th>\n",
       "      <th>resumen</th>\n",
       "      <th>delito</th>\n",
       "      <th>resolucion</th>\n",
       "      <th>texto</th>\n",
       "    </tr>\n",
       "  </thead>\n",
       "  <tbody>\n",
       "    <tr>\n",
       "      <th>0</th>\n",
       "      <td>flp 49311/2022/1/rh1 “recurso de queja no 1 – ...</td>\n",
       "      <td>2023-09-01</td>\n",
       "      <td>#37413263#354963292#20230109132436969</td>\n",
       "      <td>Camara Federal De La Plata - Sala De Feria</td>\n",
       "      <td>Las asociaciones civiles Nuevo Ambiente y Banc...</td>\n",
       "      <td>privación de la causa</td>\n",
       "      <td>la acumulación de la causa flp 49311/2022/2/rh...</td>\n",
       "      <td>Poder Judicial de la Nación Camara Federal De...</td>\n",
       "    </tr>\n",
       "  </tbody>\n",
       "</table>\n",
       "</div>"
      ],
      "text/plain": [
       "                                          expediente      fecha  \\\n",
       "0  flp 49311/2022/1/rh1 “recurso de queja no 1 – ... 2023-09-01   \n",
       "\n",
       "                                      id  \\\n",
       "0  #37413263#354963292#20230109132436969   \n",
       "\n",
       "                                   institucion  \\\n",
       "0   Camara Federal De La Plata - Sala De Feria   \n",
       "\n",
       "                                             resumen                 delito  \\\n",
       "0  Las asociaciones civiles Nuevo Ambiente y Banc...  privación de la causa   \n",
       "\n",
       "                                          resolucion  \\\n",
       "0  la acumulación de la causa flp 49311/2022/2/rh...   \n",
       "\n",
       "                                               texto  \n",
       "0   Poder Judicial de la Nación Camara Federal De...  "
      ]
     },
     "execution_count": 22,
     "metadata": {},
     "output_type": "execute_result"
    }
   ],
   "source": [
    "# Add new column\n",
    "df.insert(2, \"id\", [id[0]])\n",
    "\n",
    "# Add new column\n",
    "df.insert(3, \"institucion\", [institucion])\n",
    "\n",
    "# Add new column\n",
    "df.insert(7, \"texto\", text_cleanned)\n",
    "\n",
    "df"
   ]
  }
 ],
 "metadata": {
  "kernelspec": {
   "display_name": "pdf_2_ner-Tur0vV_l",
   "language": "python",
   "name": "python3"
  },
  "language_info": {
   "codemirror_mode": {
    "name": "ipython",
    "version": 3
   },
   "file_extension": ".py",
   "mimetype": "text/x-python",
   "name": "python",
   "nbconvert_exporter": "python",
   "pygments_lexer": "ipython3",
   "version": "3.8.10"
  },
  "orig_nbformat": 4,
  "vscode": {
   "interpreter": {
    "hash": "12716637d0a64ae0b1d58eac3001dfc572eb4f6cd32970f1e770e93b4b11e88a"
   }
  }
 },
 "nbformat": 4,
 "nbformat_minor": 2
}
