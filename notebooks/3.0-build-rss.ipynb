{
 "cells": [
  {
   "attachments": {},
   "cell_type": "markdown",
   "metadata": {},
   "source": [
    "### Import libraries"
   ]
  },
  {
   "cell_type": "code",
   "execution_count": 146,
   "metadata": {},
   "outputs": [],
   "source": [
    "import re\n",
    "import requests\n",
    "import rfeed\n",
    "from bs4 import BeautifulSoup\n",
    "from urllib3.exceptions import InsecureRequestWarning\n",
    "from urllib3 import disable_warnings\n"
   ]
  },
  {
   "attachments": {},
   "cell_type": "markdown",
   "metadata": {},
   "source": [
    "### Web scraping"
   ]
  },
  {
   "cell_type": "code",
   "execution_count": 84,
   "metadata": {},
   "outputs": [],
   "source": [
    "# Define url parameter\n",
    "url = 'https://www.cij.gov.ar/sentencias.html'\n",
    "\n",
    "# Disable warning\n",
    "disable_warnings(InsecureRequestWarning)\n",
    "\n",
    "# Make requests to the specified urls\n",
    "response = requests.get(url, verify=False)\n",
    "\n",
    "# Return content of the response\n",
    "html = response.text\n",
    "\n",
    "# Parse html\n",
    "soup = BeautifulSoup(html, 'html.parser')"
   ]
  },
  {
   "attachments": {},
   "cell_type": "markdown",
   "metadata": {},
   "source": [
    "### Extract data from  html"
   ]
  },
  {
   "cell_type": "code",
   "execution_count": 104,
   "metadata": {},
   "outputs": [],
   "source": [
    "pdfs = ['https://www.cij.gov.ar/' + i.get(\"href\") for i in soup.find_all('a', attrs={'class': 'download'})]\n",
    "\n",
    "files = []\n",
    "for i in soup.find_all(\"div\",{\"class\": \"result\"}):\n",
    "    files.extend(j.text for j in i.find_all(\"li\"))"
   ]
  },
  {
   "attachments": {},
   "cell_type": "markdown",
   "metadata": {},
   "source": [
    "### Process data"
   ]
  },
  {
   "cell_type": "code",
   "execution_count": 111,
   "metadata": {},
   "outputs": [],
   "source": [
    "tribunal = list(filter(lambda x: 'Tribunal:' in x, files))\n",
    "expediente = list(filter(lambda x: 'Expediente N°:' in x, files))\n",
    "caratula = list(filter(lambda x: 'Carátula:' in x, files))\n",
    "fecha = list(filter(lambda x: 'Fecha de sentencia:' in x, files))"
   ]
  },
  {
   "cell_type": "code",
   "execution_count": 126,
   "metadata": {},
   "outputs": [],
   "source": [
    "tribunal_clean = [x.replace('Tribunal: ', '') for x in tribunal]\n",
    "expediente_clean = [x.replace('Expediente N°: ', '') for x in expediente]\n",
    "caratula_clean = [x.replace('Carátula: ', '') for x in caratula]\n",
    "fecha_clean = [x.replace('Fecha de sentencia: ', '') for x in fecha]"
   ]
  },
  {
   "attachments": {},
   "cell_type": "markdown",
   "metadata": {},
   "source": [
    "### Create RSS feed"
   ]
  },
  {
   "cell_type": "code",
   "execution_count": 144,
   "metadata": {},
   "outputs": [],
   "source": [
    "items_ = []\n",
    "\n",
    "for i in range(len(pdfs)):\n",
    "    item = rfeed.Item(\n",
    "    title=expediente_clean[i],\n",
    "    link=pdfs[i],\n",
    "    description = caratula_clean[i],\n",
    "    author = tribunal_clean[i],\n",
    "    guid = rfeed.Guid(pdfs[i]),\n",
    "    )\n",
    "    items_.append(item)"
   ]
  },
  {
   "cell_type": "code",
   "execution_count": 145,
   "metadata": {},
   "outputs": [],
   "source": [
    "feed = rfeed.Feed(\n",
    "\ttitle = \"Centro de Información Judicial\",\n",
    "\tlink = \"https://www.cij.gov.ar/sentencias.html\",\n",
    "\tdescription = \"El Centro de Información Judicial es un organismo creado por la Corte Suprema para generar un nuevo puente de comunicación entre la Justicia y la comunidad\",\n",
    "\tlanguage = \"es\",\n",
    "\titems = items_)\n",
    "\n",
    "rss = feed.rss()\n",
    "\n",
    "# Save rss as 'xml' file\n",
    "with open(\"../assets/cij.xml\", \"w\") as f:\n",
    "    f.write(rss)"
   ]
  }
 ],
 "metadata": {
  "kernelspec": {
   "display_name": "pdf_2_ner-Tur0vV_l",
   "language": "python",
   "name": "python3"
  },
  "language_info": {
   "codemirror_mode": {
    "name": "ipython",
    "version": 3
   },
   "file_extension": ".py",
   "mimetype": "text/x-python",
   "name": "python",
   "nbconvert_exporter": "python",
   "pygments_lexer": "ipython3",
   "version": "3.8.10"
  },
  "orig_nbformat": 4,
  "vscode": {
   "interpreter": {
    "hash": "12716637d0a64ae0b1d58eac3001dfc572eb4f6cd32970f1e770e93b4b11e88a"
   }
  }
 },
 "nbformat": 4,
 "nbformat_minor": 2
}
