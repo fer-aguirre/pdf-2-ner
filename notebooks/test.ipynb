{
 "cells": [
  {
   "cell_type": "code",
   "execution_count": 1,
   "metadata": {},
   "outputs": [],
   "source": [
    "from feedgen.feed import FeedGenerator"
   ]
  },
  {
   "cell_type": "code",
   "execution_count": 4,
   "metadata": {},
   "outputs": [],
   "source": [
    "fg = FeedGenerator()\n",
    "fg.id('https://www.cij.gov.ar/sentencias.html')\n",
    "fg.title('Some Testfeed')\n",
    "fg.author( {'name':'John Doe','email':'john@example.de'} )\n",
    "fg.link( href='http://example.com', rel='alternate' )\n",
    "fg.logo('http://ex.com/logo.jpg')\n",
    "fg.subtitle('This is a cool feed!')\n",
    "fg.link( href='https://www.cij.gov.ar/sentencias.html', rel='self' )\n",
    "fg.language('en')\n",
    "rssfeed  = fg.rss_str(pretty=True)"
   ]
  },
  {
   "cell_type": "code",
   "execution_count": 5,
   "metadata": {},
   "outputs": [
    {
     "data": {
      "text/plain": [
       "b'<?xml version=\\'1.0\\' encoding=\\'UTF-8\\'?>\\n<rss xmlns:atom=\"http://www.w3.org/2005/Atom\" xmlns:content=\"http://purl.org/rss/1.0/modules/content/\" version=\"2.0\">\\n  <channel>\\n    <title>Some Testfeed</title>\\n    <link>https://www.cij.gov.ar/sentencias.html</link>\\n    <description>This is a cool feed!</description>\\n    <atom:link href=\"https://www.cij.gov.ar/sentencias.html\" rel=\"self\"/>\\n    <docs>http://www.rssboard.org/rss-specification</docs>\\n    <generator>python-feedgen</generator>\\n    <image>\\n      <url>http://ex.com/logo.jpg</url>\\n      <title>Some Testfeed</title>\\n      <link>https://www.cij.gov.ar/sentencias.html</link>\\n    </image>\\n    <language>en</language>\\n    <lastBuildDate>Wed, 01 Feb 2023 02:49:28 +0000</lastBuildDate>\\n  </channel>\\n</rss>\\n'"
      ]
     },
     "execution_count": 5,
     "metadata": {},
     "output_type": "execute_result"
    }
   ],
   "source": [
    "rssfeed"
   ]
  },
  {
   "cell_type": "code",
   "execution_count": 6,
   "metadata": {},
   "outputs": [
    {
     "data": {
      "text/plain": [
       "b'<?xml version=\\'1.0\\' encoding=\\'UTF-8\\'?>\\n<feed xmlns=\"http://www.w3.org/2005/Atom\" xml:lang=\"en\">\\n  <id>https://www.cij.gov.ar/sentencias.html</id>\\n  <title>Some Testfeed</title>\\n  <updated>2023-02-01T02:49:28.991053+00:00</updated>\\n  <author>\\n    <name>John Doe</name>\\n    <email>john@example.de</email>\\n  </author>\\n  <link href=\"http://example.com\" rel=\"alternate\"/>\\n  <link href=\"https://www.cij.gov.ar/sentencias.html\" rel=\"self\"/>\\n  <generator uri=\"https://lkiesow.github.io/python-feedgen\" version=\"0.9.0\">python-feedgen</generator>\\n  <logo>http://ex.com/logo.jpg</logo>\\n  <subtitle>This is a cool feed!</subtitle>\\n</feed>\\n'"
      ]
     },
     "execution_count": 6,
     "metadata": {},
     "output_type": "execute_result"
    }
   ],
   "source": [
    "atomfeed = fg.atom_str(pretty=True) # Get the ATOM feed as string\n",
    "atomfeed"
   ]
  }
 ],
 "metadata": {
  "kernelspec": {
   "display_name": "pdf_2_ner-Tur0vV_l",
   "language": "python",
   "name": "python3"
  },
  "language_info": {
   "codemirror_mode": {
    "name": "ipython",
    "version": 3
   },
   "file_extension": ".py",
   "mimetype": "text/x-python",
   "name": "python",
   "nbconvert_exporter": "python",
   "pygments_lexer": "ipython3",
   "version": "3.8.10 (default, Nov 14 2022, 12:59:47) \n[GCC 9.4.0]"
  },
  "orig_nbformat": 4,
  "vscode": {
   "interpreter": {
    "hash": "12716637d0a64ae0b1d58eac3001dfc572eb4f6cd32970f1e770e93b4b11e88a"
   }
  }
 },
 "nbformat": 4,
 "nbformat_minor": 2
}
