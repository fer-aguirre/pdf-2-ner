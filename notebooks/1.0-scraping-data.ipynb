{
 "cells": [
  {
   "attachments": {},
   "cell_type": "markdown",
   "metadata": {},
   "source": [
    "### Installation"
   ]
  },
  {
   "cell_type": "code",
   "execution_count": null,
   "metadata": {},
   "outputs": [],
   "source": [
    "!pip install beautifulsoup4\n",
    "!pip install wget"
   ]
  },
  {
   "attachments": {},
   "cell_type": "markdown",
   "metadata": {},
   "source": [
    "### Import libraries"
   ]
  },
  {
   "cell_type": "code",
   "execution_count": 47,
   "metadata": {},
   "outputs": [],
   "source": [
    "import re\n",
    "import requests\n",
    "import ssl\n",
    "import wget\n",
    "from bs4 import BeautifulSoup\n",
    "from contextlib import suppress\n",
    "from urllib3.exceptions import InsecureRequestWarning\n",
    "from urllib3 import disable_warnings"
   ]
  },
  {
   "attachments": {},
   "cell_type": "markdown",
   "metadata": {},
   "source": [
    "### Web scraping"
   ]
  },
  {
   "cell_type": "code",
   "execution_count": 17,
   "metadata": {},
   "outputs": [],
   "source": [
    "# Define url parameter\n",
    "url = 'https://www.cij.gov.ar/sentencias.html'\n",
    "\n",
    "# Disable warning\n",
    "disable_warnings(InsecureRequestWarning)\n",
    "\n",
    "# Make requests to the specified urls\n",
    "response = requests.get(url, verify=False)\n",
    "\n",
    "# Return content of the response\n",
    "html = response.text\n",
    "\n",
    "# Parse html\n",
    "soup = BeautifulSoup(html, 'html.parser')\n",
    "\n",
    "# Look for <a> tag with 'download' class\n",
    "pdfs = soup.find_all('a', attrs = {'class':'download'})"
   ]
  },
  {
   "attachments": {},
   "cell_type": "markdown",
   "metadata": {},
   "source": [
    "### Download PDF files"
   ]
  },
  {
   "cell_type": "code",
   "execution_count": 51,
   "metadata": {},
   "outputs": [],
   "source": [
    "# Handle known exceptions\n",
    "with suppress(Exception):\n",
    "    for pdf in pdfs:\n",
    "        # Construct url from 'href' attribute\n",
    "        pdf_url = 'https://www.cij.gov.ar/' + pdf.get(\"href\")\n",
    "\n",
    "        # Filter filename with regex matching\n",
    "        filename = re.findall(r'sentencia+.*', pdf_url)\n",
    "\n",
    "        # Use unverified SSL certificates\n",
    "        ssl._create_default_https_context = ssl._create_unverified_context  \n",
    "\n",
    "        # Download pdf file using 'wget' command\n",
    "        wget.download(pdf_url, f'../assets/pdfs/{filename[0]}')        "
   ]
  }
 ],
 "metadata": {
  "kernelspec": {
   "display_name": "pdf_2_ner-Tur0vV_l",
   "language": "python",
   "name": "python3"
  },
  "language_info": {
   "codemirror_mode": {
    "name": "ipython",
    "version": 3
   },
   "file_extension": ".py",
   "mimetype": "text/x-python",
   "name": "python",
   "nbconvert_exporter": "python",
   "pygments_lexer": "ipython3",
   "version": "3.8.10 (default, Nov 14 2022, 12:59:47) \n[GCC 9.4.0]"
  },
  "orig_nbformat": 4,
  "vscode": {
   "interpreter": {
    "hash": "12716637d0a64ae0b1d58eac3001dfc572eb4f6cd32970f1e770e93b4b11e88a"
   }
  }
 },
 "nbformat": 4,
 "nbformat_minor": 2
}
